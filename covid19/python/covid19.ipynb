{
 "cells": [
  {
   "cell_type": "code",
   "execution_count": 1,
   "metadata": {
    "collapsed": true,
    "pycharm": {
     "is_executing": false
    }
   },
   "outputs": [],
   "source": [
    "import pandas as pd\n",
    "from pandas import Series,DataFrame"
   ]
  },
  {
   "cell_type": "code",
   "execution_count": 2,
   "outputs": [],
   "source": [
    "covid19 = pd.read_csv('ConfirmedCaseOntario.csv')"
   ],
   "metadata": {
    "collapsed": false,
    "pycharm": {
     "name": "#%%\n",
     "is_executing": false
    }
   }
  },
  {
   "cell_type": "code",
   "execution_count": 3,
   "outputs": [
    {
     "data": {
      "text/plain": "   row_id accurate_episode_date age_group client_gender case_acquisitioninfo  \\\n0       1            2020-01-22       50s        FEMALE       Travel-Related   \n1       2            2020-01-21       50s          MALE       Travel-Related   \n2       3            2020-01-24       20s        FEMALE       Travel-Related   \n3       4            2020-02-05       20s        FEMALE       Travel-Related   \n4       5            2020-02-16       60s        FEMALE       Travel-Related   \n\n   outcome1                 reporting_phu           reporting_phu_address  \\\n0  Resolved         Toronto Public Health  277 Victoria Street, 5th Floor   \n1  Resolved         Toronto Public Health  277 Victoria Street, 5th Floor   \n2  Resolved  Middlesex-London Health Unit                  50 King Street   \n3  Resolved         Toronto Public Health  277 Victoria Street, 5th Floor   \n4  Resolved         Toronto Public Health  277 Victoria Street, 5th Floor   \n\n  reporting_phu_city reporting_phu_postal_code  \\\n0            Toronto                   M5B 1W2   \n1            Toronto                   M5B 1W2   \n2             London                   N6A 5L7   \n3            Toronto                   M5B 1W2   \n4            Toronto                   M5B 1W2   \n\n                               reporting_phu_website  reporting_phu_latitude  \\\n0  www.toronto.ca/community-people/health-wellnes...               43.656591   \n1  www.toronto.ca/community-people/health-wellnes...               43.656591   \n2                                 www.healthunit.com               42.981468   \n3  www.toronto.ca/community-people/health-wellnes...               43.656591   \n4  www.toronto.ca/community-people/health-wellnes...               43.656591   \n\n   reporting_phu_longitude  \n0               -79.379358  \n1               -79.379358  \n2               -81.254016  \n3               -79.379358  \n4               -79.379358  ",
      "text/html": "<div>\n<style scoped>\n    .dataframe tbody tr th:only-of-type {\n        vertical-align: middle;\n    }\n\n    .dataframe tbody tr th {\n        vertical-align: top;\n    }\n\n    .dataframe thead th {\n        text-align: right;\n    }\n</style>\n<table border=\"1\" class=\"dataframe\">\n  <thead>\n    <tr style=\"text-align: right;\">\n      <th></th>\n      <th>row_id</th>\n      <th>accurate_episode_date</th>\n      <th>age_group</th>\n      <th>client_gender</th>\n      <th>case_acquisitioninfo</th>\n      <th>outcome1</th>\n      <th>reporting_phu</th>\n      <th>reporting_phu_address</th>\n      <th>reporting_phu_city</th>\n      <th>reporting_phu_postal_code</th>\n      <th>reporting_phu_website</th>\n      <th>reporting_phu_latitude</th>\n      <th>reporting_phu_longitude</th>\n    </tr>\n  </thead>\n  <tbody>\n    <tr>\n      <th>0</th>\n      <td>1</td>\n      <td>2020-01-22</td>\n      <td>50s</td>\n      <td>FEMALE</td>\n      <td>Travel-Related</td>\n      <td>Resolved</td>\n      <td>Toronto Public Health</td>\n      <td>277 Victoria Street, 5th Floor</td>\n      <td>Toronto</td>\n      <td>M5B 1W2</td>\n      <td>www.toronto.ca/community-people/health-wellnes...</td>\n      <td>43.656591</td>\n      <td>-79.379358</td>\n    </tr>\n    <tr>\n      <th>1</th>\n      <td>2</td>\n      <td>2020-01-21</td>\n      <td>50s</td>\n      <td>MALE</td>\n      <td>Travel-Related</td>\n      <td>Resolved</td>\n      <td>Toronto Public Health</td>\n      <td>277 Victoria Street, 5th Floor</td>\n      <td>Toronto</td>\n      <td>M5B 1W2</td>\n      <td>www.toronto.ca/community-people/health-wellnes...</td>\n      <td>43.656591</td>\n      <td>-79.379358</td>\n    </tr>\n    <tr>\n      <th>2</th>\n      <td>3</td>\n      <td>2020-01-24</td>\n      <td>20s</td>\n      <td>FEMALE</td>\n      <td>Travel-Related</td>\n      <td>Resolved</td>\n      <td>Middlesex-London Health Unit</td>\n      <td>50 King Street</td>\n      <td>London</td>\n      <td>N6A 5L7</td>\n      <td>www.healthunit.com</td>\n      <td>42.981468</td>\n      <td>-81.254016</td>\n    </tr>\n    <tr>\n      <th>3</th>\n      <td>4</td>\n      <td>2020-02-05</td>\n      <td>20s</td>\n      <td>FEMALE</td>\n      <td>Travel-Related</td>\n      <td>Resolved</td>\n      <td>Toronto Public Health</td>\n      <td>277 Victoria Street, 5th Floor</td>\n      <td>Toronto</td>\n      <td>M5B 1W2</td>\n      <td>www.toronto.ca/community-people/health-wellnes...</td>\n      <td>43.656591</td>\n      <td>-79.379358</td>\n    </tr>\n    <tr>\n      <th>4</th>\n      <td>5</td>\n      <td>2020-02-16</td>\n      <td>60s</td>\n      <td>FEMALE</td>\n      <td>Travel-Related</td>\n      <td>Resolved</td>\n      <td>Toronto Public Health</td>\n      <td>277 Victoria Street, 5th Floor</td>\n      <td>Toronto</td>\n      <td>M5B 1W2</td>\n      <td>www.toronto.ca/community-people/health-wellnes...</td>\n      <td>43.656591</td>\n      <td>-79.379358</td>\n    </tr>\n  </tbody>\n</table>\n</div>"
     },
     "metadata": {},
     "output_type": "execute_result",
     "execution_count": 3
    }
   ],
   "source": [
    "covid19.head()"
   ],
   "metadata": {
    "collapsed": false,
    "pycharm": {
     "name": "#%%\n",
     "is_executing": false
    }
   }
  },
  {
   "cell_type": "code",
   "execution_count": 4,
   "outputs": [
    {
     "name": "stdout",
     "text": [
      "<class 'pandas.core.frame.DataFrame'>\n",
      "RangeIndex: 15381 entries, 0 to 15380\n",
      "Data columns (total 13 columns):\n",
      " #   Column                     Non-Null Count  Dtype  \n",
      "---  ------                     --------------  -----  \n",
      " 0   row_id                     15381 non-null  int64  \n",
      " 1   accurate_episode_date      15381 non-null  object \n",
      " 2   age_group                  15381 non-null  object \n",
      " 3   client_gender              15381 non-null  object \n",
      " 4   case_acquisitioninfo       15381 non-null  object \n",
      " 5   outcome1                   15381 non-null  object \n",
      " 6   reporting_phu              15381 non-null  object \n",
      " 7   reporting_phu_address      15381 non-null  object \n",
      " 8   reporting_phu_city         15381 non-null  object \n",
      " 9   reporting_phu_postal_code  15381 non-null  object \n",
      " 10  reporting_phu_website      15381 non-null  object \n",
      " 11  reporting_phu_latitude     15381 non-null  float64\n",
      " 12  reporting_phu_longitude    15381 non-null  float64\n",
      "dtypes: float64(2), int64(1), object(10)\n",
      "memory usage: 1.5+ MB\n"
     ],
     "output_type": "stream"
    }
   ],
   "source": [
    "covid19.info()"
   ],
   "metadata": {
    "collapsed": false,
    "pycharm": {
     "name": "#%%\n",
     "is_executing": false
    }
   }
  },
  {
   "cell_type": "code",
   "execution_count": 5,
   "outputs": [],
   "source": [
    "import numpy as np\n",
    "import matplotlib.pyplot as plt\n",
    "import seaborn as sns\n",
    "\n",
    "%matplotlib inline"
   ],
   "metadata": {
    "collapsed": false,
    "pycharm": {
     "name": "#%%\n",
     "is_executing": false
    }
   }
  },
  {
   "cell_type": "code",
   "execution_count": 6,
   "outputs": [
    {
     "name": "stderr",
     "text": [
      "/Users/zhimengwang/.conda/envs/default/lib/python3.7/site-packages/seaborn/categorical.py:3666: UserWarning: The `factorplot` function has been renamed to `catplot`. The original name will be removed in a future release. Please update your code. Note that the default `kind` in `factorplot` (`'point'`) has changed `'strip'` in `catplot`.\n",
      "  warnings.warn(msg)\n"
     ],
     "output_type": "stream"
    },
    {
     "data": {
      "text/plain": "<seaborn.axisgrid.FacetGrid at 0x1a1e4de710>"
     },
     "metadata": {},
     "output_type": "execute_result",
     "execution_count": 6
    },
    {
     "data": {
      "text/plain": "<Figure size 360x360 with 1 Axes>",
      "image/png": "[encoded data removed]"
     },
     "metadata": {},
     "output_type": "display_data"
    }
   ],
   "source": [
    "colors = [\"lightskyblue\",\"indianred\",\"greenyellow\"]\n",
    "# Set your custom color palette\n",
    "sns.set_palette(sns.color_palette(colors))\n",
    "# Let's first check gender\n",
    "sns.set_style('darkgrid')\n",
    "sns.factorplot('client_gender', data = covid19, kind = \"count\")\n"
   ],
   "metadata": {
    "collapsed": false,
    "pycharm": {
     "name": "#%%\n",
     "is_executing": false
    }
   }
  },
  {
   "cell_type": "code",
   "execution_count": 7,
   "outputs": [
    {
     "data": {
      "text/plain": "FEMALE         8848\nMALE           6392\nUNKNOWN         135\nOTHER             3\nTRANSGENDER       2\n(blank)           1\nName: client_gender, dtype: int64"
     },
     "metadata": {},
     "output_type": "execute_result",
     "execution_count": 7
    }
   ],
   "source": [
    "covid19['client_gender'].value_counts()"
   ],
   "metadata": {
    "collapsed": false,
    "pycharm": {
     "name": "#%%\n",
     "is_executing": false
    }
   }
  },
  {
   "cell_type": "code",
   "execution_count": 8,
   "outputs": [
    {
     "data": {
      "text/plain": "Toronto             4619\nMississauga         2211\nNewmarket           1401\nOttawa              1206\nWhitby               905\nWaterloo             608\nWindsor              561\nThorold              462\nOakville             433\nHamilton             404\nLondon               382\nBrockville           304\nGuelph               262\nBarrie               254\nSimcoe               176\nPoint Edward         174\nPort Hope            160\nBrantford             98\nCornwall              91\nPeterborough          84\nOwen Sound            74\nThunder Bay           70\nChatham               66\nKingston              58\nTimmins               57\nSt. Thomas            56\nSudbury               52\nStratford             44\nBelleville            40\nKenora                15\nPembroke              15\nNorth Bay             14\nSault Ste. Marie      13\nNew Liskeard          12\nName: reporting_phu_city, dtype: int64"
     },
     "metadata": {},
     "output_type": "execute_result",
     "execution_count": 8
    }
   ],
   "source": [
    "covid19['reporting_phu_city'].value_counts()"
   ],
   "metadata": {
    "collapsed": false,
    "pycharm": {
     "name": "#%%\n",
     "is_executing": false
    }
   }
  },
  {
   "cell_type": "code",
   "execution_count": 9,
   "outputs": [
    {
     "data": {
      "text/plain": "50s        2568\n40s        2076\n60s        2009\n80s        1976\n30s        1816\n20s        1705\n90s        1467\n70s        1411\n<20         346\nUnknown       7\nName: age_group, dtype: int64"
     },
     "metadata": {},
     "output_type": "execute_result",
     "execution_count": 9
    }
   ],
   "source": [
    "covid19['age_group'].value_counts()"
   ],
   "metadata": {
    "collapsed": false,
    "pycharm": {
     "name": "#%%\n",
     "is_executing": false
    }
   }
  },
  {
   "cell_type": "code",
   "execution_count": 10,
   "outputs": [
    {
     "data": {
      "text/plain": "Resolved        8964\nNot Resolved    5466\nFatal            951\nName: outcome1, dtype: int64"
     },
     "metadata": {},
     "output_type": "execute_result",
     "execution_count": 10
    }
   ],
   "source": [
    "covid19['outcome1'].value_counts()\n"
   ],
   "metadata": {
    "collapsed": false,
    "pycharm": {
     "name": "#%%\n",
     "is_executing": false
    }
   }
  }
 ],
 "metadata": {
  "kernelspec": {
   "display_name": "Python 3",
   "language": "python",
   "name": "python3"
  },
  "language_info": {
   "codemirror_mode": {
    "name": "ipython",
    "version": 2
   },
   "file_extension": ".py",
   "mimetype": "text/x-python",
   "name": "python",
   "nbconvert_exporter": "python",
   "pygments_lexer": "ipython2",
   "version": "2.7.6"
  },
  "pycharm": {
   "stem_cell": {
    "cell_type": "raw",
    "source": [],
    "metadata": {
     "collapsed": false
    }
   }
  }
 },
 "nbformat": 4,
 "nbformat_minor": 0
}